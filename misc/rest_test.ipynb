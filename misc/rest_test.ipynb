{
 "cells": [
  {
   "cell_type": "code",
   "execution_count": 1,
   "metadata": {},
   "outputs": [],
   "source": [
    "import requests"
   ]
  },
  {
   "cell_type": "code",
   "execution_count": 9,
   "metadata": {},
   "outputs": [
    {
     "data": {
      "text/plain": [
       "'[{\"title\":\"Особенности слова с точки зрения  лексикологии и лексикографии\",\"pk\":1,\"categories\":[5,6],\"last_modified\":\"2022-12-07T15:51:51.659815Z\"},{\"title\":\"В.Г. Костомаров о слове и национальном языке\",\"pk\":2,\"categories\":[5,6],\"last_modified\":\"2022-12-07T15:51:42.069338Z\"},{\"title\":\"Филология как наука о слове по мнению Д.С. Лихачева\",\"pk\":3,\"categories\":[5,6],\"last_modified\":\"2022-12-07T15:51:32.387406Z\"},{\"title\":\"Филологические труды М.В. Ломоносова\",\"pk\":4,\"categories\":[5,6],\"last_modified\":\"2022-12-07T15:43:41.806911Z\"},{\"title\":\"Словесно-стилистические фигуры и их виды\",\"pk\":5,\"categories\":[9,10],\"last_modified\":\"2022-12-07T15:51:10.176745Z\"},{\"title\":\"Введение в языкознание\",\"pk\":6,\"categories\":[8],\"last_modified\":\"2022-12-07T15:51:17.495882Z\"},{\"title\":\"История русского литературного языка\",\"pk\":7,\"categories\":[5,7],\"last_modified\":\"2022-12-07T15:49:50.407469Z\"},{\"title\":\"К вопросу о лингвистических типологиях\",\"pk\":8,\"categories\":[5,8],\"last_modified\":\"2022-12-07T15:49:44.997725Z\"},{\"title\":\"Введение в литературоведение\",\"pk\":9,\"categories\":[9,10],\"last_modified\":\"2022-12-07T15:46:14.446272Z\"}]'"
      ]
     },
     "execution_count": 9,
     "metadata": {},
     "output_type": "execute_result"
    }
   ],
   "source": [
    "r = requests.get(\"https://повесть-лет-словесных.рф/api/v1/articles_list/\")\n",
    "\n",
    "r.content.decode()"
   ]
  },
  {
   "cell_type": "code",
   "execution_count": 11,
   "metadata": {},
   "outputs": [
    {
     "data": {
      "text/plain": [
       "'[{\"title\":\"Особенности слова с точки зрения  лексикологии и лексикографии\",\"pk\":1,\"attractive_text\":\"По словам Виктора Владимировича Виноградова, проблема слова в современном языкознании  не может считаться всесторонне освещенной. Безусловно,  понимание категории слова исторически менялось. Структура слова неоднородна в языках разных систем и на разных стадиях развития языка.\",\"categories\":[5,6],\"last_modified\":\"2022-12-07T15:51:51.659815Z\"}]'"
      ]
     },
     "execution_count": 11,
     "metadata": {},
     "output_type": "execute_result"
    }
   ],
   "source": [
    "r = requests.get(\"https://повесть-лет-словесных.рф/api/v1/article_by_pk/1/\")\n",
    "\n",
    "r.content.decode()"
   ]
  }
 ],
 "metadata": {
  "kernelspec": {
   "display_name": "Python 3.10.6 64-bit",
   "language": "python",
   "name": "python3"
  },
  "language_info": {
   "codemirror_mode": {
    "name": "ipython",
    "version": 3
   },
   "file_extension": ".py",
   "mimetype": "text/x-python",
   "name": "python",
   "nbconvert_exporter": "python",
   "pygments_lexer": "ipython3",
   "version": "3.10.6"
  },
  "orig_nbformat": 4,
  "vscode": {
   "interpreter": {
    "hash": "916dbcbb3f70747c44a77c7bcd40155683ae19c65e1c03b4aa3499c5328201f1"
   }
  }
 },
 "nbformat": 4,
 "nbformat_minor": 2
}
